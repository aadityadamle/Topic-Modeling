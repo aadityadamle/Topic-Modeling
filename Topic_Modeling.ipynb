{
  "nbformat": 4,
  "nbformat_minor": 0,
  "metadata": {
    "colab": {
      "name": "Topic Modeling",
      "provenance": [],
      "collapsed_sections": [],
      "authorship_tag": "ABX9TyOgpzgsdHj1EXl7WGBmj4O9",
      "include_colab_link": true
    },
    "kernelspec": {
      "name": "python3",
      "display_name": "Python 3"
    },
    "accelerator": "GPU"
  },
  "cells": [
    {
      "cell_type": "markdown",
      "metadata": {
        "id": "view-in-github",
        "colab_type": "text"
      },
      "source": [
        "<a href=\"https://colab.research.google.com/github/aadityadamle/Topic-Modeling/blob/main/Topic_Modeling.ipynb\" target=\"_parent\"><img src=\"https://colab.research.google.com/assets/colab-badge.svg\" alt=\"Open In Colab\"/></a>"
      ]
    },
    {
      "cell_type": "code",
      "metadata": {
        "id": "P-t80zjB3LQa"
      },
      "source": [
        "import numpy as np\n",
        "import pandas as pd\n",
        "import nltk"
      ],
      "execution_count": 1,
      "outputs": []
    },
    {
      "cell_type": "markdown",
      "metadata": {
        "id": "hXOz8CUV66GE"
      },
      "source": [
        "Dataset link: https://www.kaggle.com/sunnysai12345/news-summary"
      ]
    },
    {
      "cell_type": "code",
      "metadata": {
        "colab": {
          "base_uri": "https://localhost:8080/"
        },
        "id": "qYJWLa6oFI2i",
        "outputId": "22ee44e4-1b10-4698-c949-6acd50438398"
      },
      "source": [
        "!wget https://raw.githubusercontent.com/aadityadamle/Topic-Modeling/main/news_summary.csv"
      ],
      "execution_count": 2,
      "outputs": [
        {
          "output_type": "stream",
          "text": [
            "--2021-04-16 14:34:52--  https://raw.githubusercontent.com/aadityadamle/Topic-Modeling/main/news_summary.csv\n",
            "Resolving raw.githubusercontent.com (raw.githubusercontent.com)... 185.199.108.133, 185.199.109.133, 185.199.110.133, ...\n",
            "Connecting to raw.githubusercontent.com (raw.githubusercontent.com)|185.199.108.133|:443... connected.\n",
            "HTTP request sent, awaiting response... 200 OK\n",
            "Length: 11896415 (11M) [text/plain]\n",
            "Saving to: ‘news_summary.csv’\n",
            "\n",
            "news_summary.csv    100%[===================>]  11.34M  --.-KB/s    in 0.08s   \n",
            "\n",
            "2021-04-16 14:34:52 (145 MB/s) - ‘news_summary.csv’ saved [11896415/11896415]\n",
            "\n"
          ],
          "name": "stdout"
        }
      ]
    },
    {
      "cell_type": "code",
      "metadata": {
        "colab": {
          "base_uri": "https://localhost:8080/",
          "height": 280
        },
        "id": "zUPkbNuT27qB",
        "outputId": "e5c575d3-8294-432e-9c79-1b33c9bc9e07"
      },
      "source": [
        "#Examine the csv\n",
        "data = pd.read_csv(\"/content/news_summary.csv\", encoding=\"latin-1\")\n",
        "data.head() "
      ],
      "execution_count": 3,
      "outputs": [
        {
          "output_type": "execute_result",
          "data": {
            "text/html": [
              "<div>\n",
              "<style scoped>\n",
              "    .dataframe tbody tr th:only-of-type {\n",
              "        vertical-align: middle;\n",
              "    }\n",
              "\n",
              "    .dataframe tbody tr th {\n",
              "        vertical-align: top;\n",
              "    }\n",
              "\n",
              "    .dataframe thead th {\n",
              "        text-align: right;\n",
              "    }\n",
              "</style>\n",
              "<table border=\"1\" class=\"dataframe\">\n",
              "  <thead>\n",
              "    <tr style=\"text-align: right;\">\n",
              "      <th></th>\n",
              "      <th>author</th>\n",
              "      <th>date</th>\n",
              "      <th>headlines</th>\n",
              "      <th>read_more</th>\n",
              "      <th>text</th>\n",
              "      <th>ctext</th>\n",
              "    </tr>\n",
              "  </thead>\n",
              "  <tbody>\n",
              "    <tr>\n",
              "      <th>0</th>\n",
              "      <td>Chhavi Tyagi</td>\n",
              "      <td>03 Aug 2017,Thursday</td>\n",
              "      <td>Daman &amp; Diu revokes mandatory Rakshabandhan in...</td>\n",
              "      <td>http://www.hindustantimes.com/india-news/raksh...</td>\n",
              "      <td>The Administration of Union Territory Daman an...</td>\n",
              "      <td>The Daman and Diu administration on Wednesday ...</td>\n",
              "    </tr>\n",
              "    <tr>\n",
              "      <th>1</th>\n",
              "      <td>Daisy Mowke</td>\n",
              "      <td>03 Aug 2017,Thursday</td>\n",
              "      <td>Malaika slams user who trolled her for 'divorc...</td>\n",
              "      <td>http://www.hindustantimes.com/bollywood/malaik...</td>\n",
              "      <td>Malaika Arora slammed an Instagram user who tr...</td>\n",
              "      <td>From her special numbers to TV?appearances, Bo...</td>\n",
              "    </tr>\n",
              "    <tr>\n",
              "      <th>2</th>\n",
              "      <td>Arshiya Chopra</td>\n",
              "      <td>03 Aug 2017,Thursday</td>\n",
              "      <td>'Virgin' now corrected to 'Unmarried' in IGIMS...</td>\n",
              "      <td>http://www.hindustantimes.com/patna/bihar-igim...</td>\n",
              "      <td>The Indira Gandhi Institute of Medical Science...</td>\n",
              "      <td>The Indira Gandhi Institute of Medical Science...</td>\n",
              "    </tr>\n",
              "    <tr>\n",
              "      <th>3</th>\n",
              "      <td>Sumedha Sehra</td>\n",
              "      <td>03 Aug 2017,Thursday</td>\n",
              "      <td>Aaj aapne pakad liya: LeT man Dujana before be...</td>\n",
              "      <td>http://indiatoday.intoday.in/story/abu-dujana-...</td>\n",
              "      <td>Lashkar-e-Taiba's Kashmir commander Abu Dujana...</td>\n",
              "      <td>Lashkar-e-Taiba's Kashmir commander Abu Dujana...</td>\n",
              "    </tr>\n",
              "    <tr>\n",
              "      <th>4</th>\n",
              "      <td>Aarushi Maheshwari</td>\n",
              "      <td>03 Aug 2017,Thursday</td>\n",
              "      <td>Hotel staff to get training to spot signs of s...</td>\n",
              "      <td>http://indiatoday.intoday.in/story/sex-traffic...</td>\n",
              "      <td>Hotels in Maharashtra will train their staff t...</td>\n",
              "      <td>Hotels in Mumbai and other Indian cities are t...</td>\n",
              "    </tr>\n",
              "  </tbody>\n",
              "</table>\n",
              "</div>"
            ],
            "text/plain": [
              "               author  ...                                              ctext\n",
              "0        Chhavi Tyagi  ...  The Daman and Diu administration on Wednesday ...\n",
              "1         Daisy Mowke  ...  From her special numbers to TV?appearances, Bo...\n",
              "2      Arshiya Chopra  ...  The Indira Gandhi Institute of Medical Science...\n",
              "3       Sumedha Sehra  ...  Lashkar-e-Taiba's Kashmir commander Abu Dujana...\n",
              "4  Aarushi Maheshwari  ...  Hotels in Mumbai and other Indian cities are t...\n",
              "\n",
              "[5 rows x 6 columns]"
            ]
          },
          "metadata": {
            "tags": []
          },
          "execution_count": 3
        }
      ]
    },
    {
      "cell_type": "code",
      "metadata": {
        "colab": {
          "base_uri": "https://localhost:8080/"
        },
        "id": "nBhjO5XUaihj",
        "outputId": "1b188bd3-a550-4344-fe4d-1d9d621646b5"
      },
      "source": [
        "print(data.shape)\n",
        "data.columns"
      ],
      "execution_count": 4,
      "outputs": [
        {
          "output_type": "stream",
          "text": [
            "(4514, 6)\n"
          ],
          "name": "stdout"
        },
        {
          "output_type": "execute_result",
          "data": {
            "text/plain": [
              "Index(['author', 'date', 'headlines', 'read_more', 'text', 'ctext'], dtype='object')"
            ]
          },
          "metadata": {
            "tags": []
          },
          "execution_count": 4
        }
      ]
    },
    {
      "cell_type": "code",
      "metadata": {
        "colab": {
          "base_uri": "https://localhost:8080/",
          "height": 196
        },
        "id": "jEm5Qrk-7XJf",
        "outputId": "b24a222e-a632-43e6-9b58-128b7774cc42"
      },
      "source": [
        "data = data.drop(columns = [\"author\",\"date\",\"read_more\"], axis = 1)\n",
        "data.head()"
      ],
      "execution_count": 5,
      "outputs": [
        {
          "output_type": "execute_result",
          "data": {
            "text/html": [
              "<div>\n",
              "<style scoped>\n",
              "    .dataframe tbody tr th:only-of-type {\n",
              "        vertical-align: middle;\n",
              "    }\n",
              "\n",
              "    .dataframe tbody tr th {\n",
              "        vertical-align: top;\n",
              "    }\n",
              "\n",
              "    .dataframe thead th {\n",
              "        text-align: right;\n",
              "    }\n",
              "</style>\n",
              "<table border=\"1\" class=\"dataframe\">\n",
              "  <thead>\n",
              "    <tr style=\"text-align: right;\">\n",
              "      <th></th>\n",
              "      <th>headlines</th>\n",
              "      <th>text</th>\n",
              "      <th>ctext</th>\n",
              "    </tr>\n",
              "  </thead>\n",
              "  <tbody>\n",
              "    <tr>\n",
              "      <th>0</th>\n",
              "      <td>Daman &amp; Diu revokes mandatory Rakshabandhan in...</td>\n",
              "      <td>The Administration of Union Territory Daman an...</td>\n",
              "      <td>The Daman and Diu administration on Wednesday ...</td>\n",
              "    </tr>\n",
              "    <tr>\n",
              "      <th>1</th>\n",
              "      <td>Malaika slams user who trolled her for 'divorc...</td>\n",
              "      <td>Malaika Arora slammed an Instagram user who tr...</td>\n",
              "      <td>From her special numbers to TV?appearances, Bo...</td>\n",
              "    </tr>\n",
              "    <tr>\n",
              "      <th>2</th>\n",
              "      <td>'Virgin' now corrected to 'Unmarried' in IGIMS...</td>\n",
              "      <td>The Indira Gandhi Institute of Medical Science...</td>\n",
              "      <td>The Indira Gandhi Institute of Medical Science...</td>\n",
              "    </tr>\n",
              "    <tr>\n",
              "      <th>3</th>\n",
              "      <td>Aaj aapne pakad liya: LeT man Dujana before be...</td>\n",
              "      <td>Lashkar-e-Taiba's Kashmir commander Abu Dujana...</td>\n",
              "      <td>Lashkar-e-Taiba's Kashmir commander Abu Dujana...</td>\n",
              "    </tr>\n",
              "    <tr>\n",
              "      <th>4</th>\n",
              "      <td>Hotel staff to get training to spot signs of s...</td>\n",
              "      <td>Hotels in Maharashtra will train their staff t...</td>\n",
              "      <td>Hotels in Mumbai and other Indian cities are t...</td>\n",
              "    </tr>\n",
              "  </tbody>\n",
              "</table>\n",
              "</div>"
            ],
            "text/plain": [
              "                                           headlines  ...                                              ctext\n",
              "0  Daman & Diu revokes mandatory Rakshabandhan in...  ...  The Daman and Diu administration on Wednesday ...\n",
              "1  Malaika slams user who trolled her for 'divorc...  ...  From her special numbers to TV?appearances, Bo...\n",
              "2  'Virgin' now corrected to 'Unmarried' in IGIMS...  ...  The Indira Gandhi Institute of Medical Science...\n",
              "3  Aaj aapne pakad liya: LeT man Dujana before be...  ...  Lashkar-e-Taiba's Kashmir commander Abu Dujana...\n",
              "4  Hotel staff to get training to spot signs of s...  ...  Hotels in Mumbai and other Indian cities are t...\n",
              "\n",
              "[5 rows x 3 columns]"
            ]
          },
          "metadata": {
            "tags": []
          },
          "execution_count": 5
        }
      ]
    },
    {
      "cell_type": "code",
      "metadata": {
        "colab": {
          "base_uri": "https://localhost:8080/"
        },
        "id": "HwN4oSPX3HDR",
        "outputId": "72b9450d-192e-4026-9ab0-9708bbfc37b0"
      },
      "source": [
        "texts = data[\"text\"]\n",
        "texts[:10]"
      ],
      "execution_count": 6,
      "outputs": [
        {
          "output_type": "execute_result",
          "data": {
            "text/plain": [
              "0    The Administration of Union Territory Daman an...\n",
              "1    Malaika Arora slammed an Instagram user who tr...\n",
              "2    The Indira Gandhi Institute of Medical Science...\n",
              "3    Lashkar-e-Taiba's Kashmir commander Abu Dujana...\n",
              "4    Hotels in Maharashtra will train their staff t...\n",
              "5    A 32-year-old man on Wednesday was found hangi...\n",
              "6    The Delhi High Court reduced the compensation ...\n",
              "7    A 60-year old Dalit woman was allegedly lynche...\n",
              "8    An inquiry by the Aircraft Accident Investigat...\n",
              "9    The Congress party has opened a bank called 'S...\n",
              "Name: text, dtype: object"
            ]
          },
          "metadata": {
            "tags": []
          },
          "execution_count": 6
        }
      ]
    },
    {
      "cell_type": "code",
      "metadata": {
        "id": "CuF-4PCS4bnv",
        "colab": {
          "base_uri": "https://localhost:8080/"
        },
        "outputId": "7afde7cc-377e-4c11-cc63-d483df8f908b"
      },
      "source": [
        "texts = texts.str.lower()\n",
        "texts[:10]"
      ],
      "execution_count": 7,
      "outputs": [
        {
          "output_type": "execute_result",
          "data": {
            "text/plain": [
              "0    the administration of union territory daman an...\n",
              "1    malaika arora slammed an instagram user who tr...\n",
              "2    the indira gandhi institute of medical science...\n",
              "3    lashkar-e-taiba's kashmir commander abu dujana...\n",
              "4    hotels in maharashtra will train their staff t...\n",
              "5    a 32-year-old man on wednesday was found hangi...\n",
              "6    the delhi high court reduced the compensation ...\n",
              "7    a 60-year old dalit woman was allegedly lynche...\n",
              "8    an inquiry by the aircraft accident investigat...\n",
              "9    the congress party has opened a bank called 's...\n",
              "Name: text, dtype: object"
            ]
          },
          "metadata": {
            "tags": []
          },
          "execution_count": 7
        }
      ]
    },
    {
      "cell_type": "code",
      "metadata": {
        "colab": {
          "base_uri": "https://localhost:8080/"
        },
        "id": "W0DxxfeG8aE6",
        "outputId": "2425e654-136b-4991-fe77-c42699804b0d"
      },
      "source": [
        "texts = texts.str.replace(r\"[^A-Za-z]\",\" \")\n",
        "texts[:10]"
      ],
      "execution_count": 8,
      "outputs": [
        {
          "output_type": "execute_result",
          "data": {
            "text/plain": [
              "0    the administration of union territory daman an...\n",
              "1    malaika arora slammed an instagram user who tr...\n",
              "2    the indira gandhi institute of medical science...\n",
              "3    lashkar e taiba s kashmir commander abu dujana...\n",
              "4    hotels in maharashtra will train their staff t...\n",
              "5    a    year old man on wednesday was found hangi...\n",
              "6    the delhi high court reduced the compensation ...\n",
              "7    a    year old dalit woman was allegedly lynche...\n",
              "8    an inquiry by the aircraft accident investigat...\n",
              "9    the congress party has opened a bank called  s...\n",
              "Name: text, dtype: object"
            ]
          },
          "metadata": {
            "tags": []
          },
          "execution_count": 8
        }
      ]
    },
    {
      "cell_type": "code",
      "metadata": {
        "colab": {
          "base_uri": "https://localhost:8080/"
        },
        "id": "-SPIOqLpRJvQ",
        "outputId": "210e1a4b-f2ed-46ed-ef23-d4931a52b406"
      },
      "source": [
        "#dowload stopwords\n",
        "nltk.download(\"stopwords\")\n",
        "#Setup and remove English stopwords from titles\n",
        "from nltk.corpus import stopwords\n",
        "stop_words = set(stopwords.words(\"english\"))"
      ],
      "execution_count": 9,
      "outputs": [
        {
          "output_type": "stream",
          "text": [
            "[nltk_data] Downloading package stopwords to /root/nltk_data...\n",
            "[nltk_data]   Unzipping corpora/stopwords.zip.\n"
          ],
          "name": "stdout"
        }
      ]
    },
    {
      "cell_type": "code",
      "metadata": {
        "colab": {
          "base_uri": "https://localhost:8080/"
        },
        "id": "MIGOneywRX54",
        "outputId": "2bed119c-963c-4801-8e84-d1f95f2c3636"
      },
      "source": [
        "#Removing the words in stop_words from every title\n",
        "texts = texts.apply(lambda x : \" \".\n",
        "                            join(word for word in x.split() \n",
        "                            if word not in stop_words))\n",
        "print(texts[:10])"
      ],
      "execution_count": 10,
      "outputs": [
        {
          "output_type": "stream",
          "text": [
            "0    administration union territory daman diu revok...\n",
            "1    malaika arora slammed instagram user trolled d...\n",
            "2    indira gandhi institute medical sciences igims...\n",
            "3    lashkar e taiba kashmir commander abu dujana k...\n",
            "4    hotels maharashtra train staff spot signs sex ...\n",
            "5    year old man wednesday found hanging inside wa...\n",
            "6    delhi high court reduced compensation awarded ...\n",
            "7    year old dalit woman allegedly lynched agra vi...\n",
            "8    inquiry aircraft accident investigation bureau...\n",
            "9    congress party opened bank called state bank t...\n",
            "Name: text, dtype: object\n"
          ],
          "name": "stdout"
        }
      ]
    },
    {
      "cell_type": "code",
      "metadata": {
        "id": "8gQx4ui6R93N"
      },
      "source": [
        "from sklearn.feature_extraction.text import TfidfVectorizer\n",
        "vectorizer = TfidfVectorizer()"
      ],
      "execution_count": 11,
      "outputs": []
    },
    {
      "cell_type": "code",
      "metadata": {
        "id": "DyI2zI-YSQaY"
      },
      "source": [
        "X = vectorizer.fit_transform(texts)"
      ],
      "execution_count": 12,
      "outputs": []
    },
    {
      "cell_type": "code",
      "metadata": {
        "colab": {
          "base_uri": "https://localhost:8080/"
        },
        "id": "bNxWkIbm7m7Z",
        "outputId": "a0f4c509-74de-4ee5-a443-2d118bf8cad3"
      },
      "source": [
        "X"
      ],
      "execution_count": 13,
      "outputs": [
        {
          "output_type": "execute_result",
          "data": {
            "text/plain": [
              "<4514x18636 sparse matrix of type '<class 'numpy.float64'>'\n",
              "\twith 137650 stored elements in Compressed Sparse Row format>"
            ]
          },
          "metadata": {
            "tags": []
          },
          "execution_count": 13
        }
      ]
    },
    {
      "cell_type": "code",
      "metadata": {
        "colab": {
          "base_uri": "https://localhost:8080/"
        },
        "id": "ghXhVOy8AHd5",
        "outputId": "71dde1b6-fe1e-4560-8ecb-94c0916401cf"
      },
      "source": [
        "from sklearn.decomposition import LatentDirichletAllocation\n",
        "\n",
        "lda = LatentDirichletAllocation(n_components = 7, random_state = 42)\n",
        "lda.fit(X)"
      ],
      "execution_count": 14,
      "outputs": [
        {
          "output_type": "execute_result",
          "data": {
            "text/plain": [
              "LatentDirichletAllocation(batch_size=128, doc_topic_prior=None,\n",
              "                          evaluate_every=-1, learning_decay=0.7,\n",
              "                          learning_method='batch', learning_offset=10.0,\n",
              "                          max_doc_update_iter=100, max_iter=10,\n",
              "                          mean_change_tol=0.001, n_components=7, n_jobs=None,\n",
              "                          perp_tol=0.1, random_state=42, topic_word_prior=None,\n",
              "                          total_samples=1000000.0, verbose=0)"
            ]
          },
          "metadata": {
            "tags": []
          },
          "execution_count": 14
        }
      ]
    },
    {
      "cell_type": "markdown",
      "metadata": {
        "id": "FXaPs5seTveq"
      },
      "source": [
        "The n_compnents parameter is number of topics."
      ]
    },
    {
      "cell_type": "code",
      "metadata": {
        "colab": {
          "base_uri": "https://localhost:8080/"
        },
        "id": "3f81i6NC8TjL",
        "outputId": "814a16e2-ada5-46ca-cfc7-d903a39a4aaf"
      },
      "source": [
        "import random\n",
        "\n",
        "for i in range(10):\n",
        "  id = random.randint(0,len(vectorizer.get_feature_names()))\n",
        "  print(vectorizer.get_feature_names()[id])"
      ],
      "execution_count": 15,
      "outputs": [
        {
          "output_type": "stream",
          "text": [
            "dhaka\n",
            "submerged\n",
            "eastenders\n",
            "bhiwandi\n",
            "depending\n",
            "chandrashekar\n",
            "disqualified\n",
            "learnt\n",
            "naturist\n",
            "defeating\n"
          ],
          "name": "stdout"
        }
      ]
    },
    {
      "cell_type": "code",
      "metadata": {
        "id": "ppJv3bA981mo"
      },
      "source": [
        "cat1 = lda.components_[0]"
      ],
      "execution_count": 16,
      "outputs": []
    },
    {
      "cell_type": "code",
      "metadata": {
        "colab": {
          "base_uri": "https://localhost:8080/"
        },
        "id": "iZHMh9tK9JVX",
        "outputId": "0dfd4a77-cde9-4dcb-f2e3-93c8c6a58e30"
      },
      "source": [
        "top_words = cat1.argsort()[-10:]\n",
        "print(top_words)"
      ],
      "execution_count": 17,
      "outputs": [
        {
          "output_type": "stream",
          "text": [
            "[11501  7893  8872  6934  3943 18415   205   221  6082 14369]\n"
          ],
          "name": "stdout"
        }
      ]
    },
    {
      "cell_type": "code",
      "metadata": {
        "colab": {
          "base_uri": "https://localhost:8080/"
        },
        "id": "gXN7VXXO9iBq",
        "outputId": "e7bccb7c-070a-4975-acdd-643efbc73650"
      },
      "source": [
        "for i in top_words:\n",
        "  print(vectorizer.get_feature_names()[i])"
      ],
      "execution_count": 18,
      "outputs": [
        {
          "output_type": "stream",
          "text": [
            "open\n",
            "india\n",
            "khan\n",
            "gst\n",
            "crore\n",
            "world\n",
            "actor\n",
            "added\n",
            "film\n",
            "said\n"
          ],
          "name": "stdout"
        }
      ]
    },
    {
      "cell_type": "code",
      "metadata": {
        "colab": {
          "base_uri": "https://localhost:8080/"
        },
        "id": "YLr80rN899f9",
        "outputId": "0d0b7b48-a8ef-407d-ed4a-fa62b6b3562b"
      },
      "source": [
        "for i, cat in enumerate(lda.components_):\n",
        "  print(f\"Top 10 words for category #{i}:\")\n",
        "  print([vectorizer.get_feature_names()[i] for i in cat.argsort()[-10:]])\n",
        "  print(\"\\n\")  "
      ],
      "execution_count": 19,
      "outputs": [
        {
          "output_type": "stream",
          "text": [
            "Top 10 words for category #0:\n",
            "['open', 'india', 'khan', 'gst', 'crore', 'world', 'actor', 'added', 'film', 'said']\n",
            "\n",
            "\n",
            "Top 10 words for category #1:\n",
            "['sunil', 'hrithik', 'tweeted', 'picture', 'actor', 'said', 'india', 'show', 'film', 'kapil']\n",
            "\n",
            "\n",
            "Top 10 words for category #2:\n",
            "['like', 'actor', 'also', 'would', 'india', 'indian', 'jallikattu', 'added', 'film', 'said']\n",
            "\n",
            "\n",
            "Top 10 words for category #3:\n",
            "['congress', 'president', 'india', 'state', 'delhi', 'party', 'bjp', 'minister', 'government', 'said']\n",
            "\n",
            "\n",
            "Top 10 words for category #4:\n",
            "['rukh', 'like', 'kapoor', 'actress', 'added', 'salman', 'actor', 'said', 'khan', 'film']\n",
            "\n",
            "\n",
            "Top 10 words for category #5:\n",
            "['woman', 'arrested', 'allegedly', 'accused', 'man', 'said', 'year', 'delhi', 'old', 'police']\n",
            "\n",
            "\n",
            "Top 10 words for category #6:\n",
            "['virat', 'world', 'said', 'indian', 'captain', 'india', 'kohli', 'cricket', 'test', 'team']\n",
            "\n",
            "\n"
          ],
          "name": "stdout"
        }
      ]
    },
    {
      "cell_type": "markdown",
      "metadata": {
        "id": "JXhdb7UnnEu7"
      },
      "source": [
        "From the above results we get some categories clearly as category 3 informs about **Politics**, category 5 represents **Crime** and category 6 classifys **Cricket**. Categories 1 and 4 point towards the indian **film industry**. Notice that words like \"film\", \"actor\" and \"said\" appear in many categories because they are in general very common in news and thats also why we get 2 topics for film industry. The words like these should be ignored. After ignoring these words another topic arises in category 0 which is **Finance and world**."
      ]
    },
    {
      "cell_type": "code",
      "metadata": {
        "colab": {
          "base_uri": "https://localhost:8080/"
        },
        "id": "wGCYKn6b-3ZN",
        "outputId": "af73a4bc-402d-4a27-d4a8-dea8dce1f652"
      },
      "source": [
        "cat_values = lda.transform(X)\n",
        "cat_values.shape"
      ],
      "execution_count": 20,
      "outputs": [
        {
          "output_type": "execute_result",
          "data": {
            "text/plain": [
              "(4514, 7)"
            ]
          },
          "metadata": {
            "tags": []
          },
          "execution_count": 20
        }
      ]
    },
    {
      "cell_type": "code",
      "metadata": {
        "id": "1n7uaoAp_PFL"
      },
      "source": [
        "data[\"Category\"] = cat_values.argmax(axis=1)"
      ],
      "execution_count": 21,
      "outputs": []
    },
    {
      "cell_type": "code",
      "metadata": {
        "colab": {
          "base_uri": "https://localhost:8080/",
          "height": 196
        },
        "id": "EFV7EcuH_iEd",
        "outputId": "6f0b48f0-8a07-43fe-e1e2-6316111eac0d"
      },
      "source": [
        "data.head()"
      ],
      "execution_count": 22,
      "outputs": [
        {
          "output_type": "execute_result",
          "data": {
            "text/html": [
              "<div>\n",
              "<style scoped>\n",
              "    .dataframe tbody tr th:only-of-type {\n",
              "        vertical-align: middle;\n",
              "    }\n",
              "\n",
              "    .dataframe tbody tr th {\n",
              "        vertical-align: top;\n",
              "    }\n",
              "\n",
              "    .dataframe thead th {\n",
              "        text-align: right;\n",
              "    }\n",
              "</style>\n",
              "<table border=\"1\" class=\"dataframe\">\n",
              "  <thead>\n",
              "    <tr style=\"text-align: right;\">\n",
              "      <th></th>\n",
              "      <th>headlines</th>\n",
              "      <th>text</th>\n",
              "      <th>ctext</th>\n",
              "      <th>Category</th>\n",
              "    </tr>\n",
              "  </thead>\n",
              "  <tbody>\n",
              "    <tr>\n",
              "      <th>0</th>\n",
              "      <td>Daman &amp; Diu revokes mandatory Rakshabandhan in...</td>\n",
              "      <td>The Administration of Union Territory Daman an...</td>\n",
              "      <td>The Daman and Diu administration on Wednesday ...</td>\n",
              "      <td>5</td>\n",
              "    </tr>\n",
              "    <tr>\n",
              "      <th>1</th>\n",
              "      <td>Malaika slams user who trolled her for 'divorc...</td>\n",
              "      <td>Malaika Arora slammed an Instagram user who tr...</td>\n",
              "      <td>From her special numbers to TV?appearances, Bo...</td>\n",
              "      <td>0</td>\n",
              "    </tr>\n",
              "    <tr>\n",
              "      <th>2</th>\n",
              "      <td>'Virgin' now corrected to 'Unmarried' in IGIMS...</td>\n",
              "      <td>The Indira Gandhi Institute of Medical Science...</td>\n",
              "      <td>The Indira Gandhi Institute of Medical Science...</td>\n",
              "      <td>3</td>\n",
              "    </tr>\n",
              "    <tr>\n",
              "      <th>3</th>\n",
              "      <td>Aaj aapne pakad liya: LeT man Dujana before be...</td>\n",
              "      <td>Lashkar-e-Taiba's Kashmir commander Abu Dujana...</td>\n",
              "      <td>Lashkar-e-Taiba's Kashmir commander Abu Dujana...</td>\n",
              "      <td>4</td>\n",
              "    </tr>\n",
              "    <tr>\n",
              "      <th>4</th>\n",
              "      <td>Hotel staff to get training to spot signs of s...</td>\n",
              "      <td>Hotels in Maharashtra will train their staff t...</td>\n",
              "      <td>Hotels in Mumbai and other Indian cities are t...</td>\n",
              "      <td>3</td>\n",
              "    </tr>\n",
              "  </tbody>\n",
              "</table>\n",
              "</div>"
            ],
            "text/plain": [
              "                                           headlines  ... Category\n",
              "0  Daman & Diu revokes mandatory Rakshabandhan in...  ...        5\n",
              "1  Malaika slams user who trolled her for 'divorc...  ...        0\n",
              "2  'Virgin' now corrected to 'Unmarried' in IGIMS...  ...        3\n",
              "3  Aaj aapne pakad liya: LeT man Dujana before be...  ...        4\n",
              "4  Hotel staff to get training to spot signs of s...  ...        3\n",
              "\n",
              "[5 rows x 4 columns]"
            ]
          },
          "metadata": {
            "tags": []
          },
          "execution_count": 22
        }
      ]
    }
  ]
}