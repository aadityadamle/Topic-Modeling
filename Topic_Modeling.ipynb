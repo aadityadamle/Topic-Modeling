{
  "nbformat": 4,
  "nbformat_minor": 0,
  "metadata": {
    "colab": {
      "name": "Topic Modeling",
      "provenance": [],
      "collapsed_sections": [],
      "authorship_tag": "ABX9TyN9cBNP3NUoP32PcxXgbm2p",
      "include_colab_link": true
    },
    "kernelspec": {
      "name": "python3",
      "display_name": "Python 3"
    },
    "accelerator": "GPU"
  },
  "cells": [
    {
      "cell_type": "markdown",
      "metadata": {
        "id": "view-in-github",
        "colab_type": "text"
      },
      "source": [
        "<a href=\"https://colab.research.google.com/github/aadityadamle/Topic-Modeling/blob/main/Topic_Modeling.ipynb\" target=\"_parent\"><img src=\"https://colab.research.google.com/assets/colab-badge.svg\" alt=\"Open In Colab\"/></a>"
      ]
    },
    {
      "cell_type": "markdown",
      "metadata": {
        "id": "ReW1fuvA9EY-"
      },
      "source": [
        "Import libraries"
      ]
    },
    {
      "cell_type": "code",
      "metadata": {
        "id": "P-t80zjB3LQa"
      },
      "source": [
        "import numpy as np\n",
        "import pandas as pd\n",
        "import nltk"
      ],
      "execution_count": 1,
      "outputs": []
    },
    {
      "cell_type": "markdown",
      "metadata": {
        "id": "g28EUd209Heo"
      },
      "source": [
        "Download the datasets"
      ]
    },
    {
      "cell_type": "code",
      "metadata": {
        "colab": {
          "base_uri": "https://localhost:8080/"
        },
        "id": "qYJWLa6oFI2i",
        "outputId": "4a7c8b85-0422-4232-b98e-12a9430e0131"
      },
      "source": [
        "!wget https://raw.githubusercontent.com/aadityadamle/Topic-Modeling/main/news_summary.csv"
      ],
      "execution_count": 2,
      "outputs": [
        {
          "output_type": "stream",
          "text": [
            "--2021-04-17 14:07:48--  https://raw.githubusercontent.com/aadityadamle/Topic-Modeling/main/news_summary.csv\n",
            "Resolving raw.githubusercontent.com (raw.githubusercontent.com)... 185.199.108.133, 185.199.109.133, 185.199.110.133, ...\n",
            "Connecting to raw.githubusercontent.com (raw.githubusercontent.com)|185.199.108.133|:443... connected.\n",
            "HTTP request sent, awaiting response... 200 OK\n",
            "Length: 11896415 (11M) [text/plain]\n",
            "Saving to: ‘news_summary.csv.9’\n",
            "\n",
            "\rnews_summary.csv.9    0%[                    ]       0  --.-KB/s               \rnews_summary.csv.9  100%[===================>]  11.34M  --.-KB/s    in 0.09s   \n",
            "\n",
            "2021-04-17 14:07:48 (128 MB/s) - ‘news_summary.csv.9’ saved [11896415/11896415]\n",
            "\n"
          ],
          "name": "stdout"
        }
      ]
    },
    {
      "cell_type": "markdown",
      "metadata": {
        "id": "hXOz8CUV66GE"
      },
      "source": [
        "Dataset link: https://www.kaggle.com/sunnysai12345/news-summary"
      ]
    },
    {
      "cell_type": "code",
      "metadata": {
        "colab": {
          "base_uri": "https://localhost:8080/",
          "height": 280
        },
        "id": "zUPkbNuT27qB",
        "outputId": "572353f8-1a3d-457a-8a1b-4c77f68587e8"
      },
      "source": [
        "#Examine the csv\n",
        "data = pd.read_csv(\"/content/news_summary.csv\", encoding=\"latin-1\")\n",
        "data.head() "
      ],
      "execution_count": 3,
      "outputs": [
        {
          "output_type": "execute_result",
          "data": {
            "text/html": [
              "<div>\n",
              "<style scoped>\n",
              "    .dataframe tbody tr th:only-of-type {\n",
              "        vertical-align: middle;\n",
              "    }\n",
              "\n",
              "    .dataframe tbody tr th {\n",
              "        vertical-align: top;\n",
              "    }\n",
              "\n",
              "    .dataframe thead th {\n",
              "        text-align: right;\n",
              "    }\n",
              "</style>\n",
              "<table border=\"1\" class=\"dataframe\">\n",
              "  <thead>\n",
              "    <tr style=\"text-align: right;\">\n",
              "      <th></th>\n",
              "      <th>author</th>\n",
              "      <th>date</th>\n",
              "      <th>headlines</th>\n",
              "      <th>read_more</th>\n",
              "      <th>text</th>\n",
              "      <th>ctext</th>\n",
              "    </tr>\n",
              "  </thead>\n",
              "  <tbody>\n",
              "    <tr>\n",
              "      <th>0</th>\n",
              "      <td>Chhavi Tyagi</td>\n",
              "      <td>03 Aug 2017,Thursday</td>\n",
              "      <td>Daman &amp; Diu revokes mandatory Rakshabandhan in...</td>\n",
              "      <td>http://www.hindustantimes.com/india-news/raksh...</td>\n",
              "      <td>The Administration of Union Territory Daman an...</td>\n",
              "      <td>The Daman and Diu administration on Wednesday ...</td>\n",
              "    </tr>\n",
              "    <tr>\n",
              "      <th>1</th>\n",
              "      <td>Daisy Mowke</td>\n",
              "      <td>03 Aug 2017,Thursday</td>\n",
              "      <td>Malaika slams user who trolled her for 'divorc...</td>\n",
              "      <td>http://www.hindustantimes.com/bollywood/malaik...</td>\n",
              "      <td>Malaika Arora slammed an Instagram user who tr...</td>\n",
              "      <td>From her special numbers to TV?appearances, Bo...</td>\n",
              "    </tr>\n",
              "    <tr>\n",
              "      <th>2</th>\n",
              "      <td>Arshiya Chopra</td>\n",
              "      <td>03 Aug 2017,Thursday</td>\n",
              "      <td>'Virgin' now corrected to 'Unmarried' in IGIMS...</td>\n",
              "      <td>http://www.hindustantimes.com/patna/bihar-igim...</td>\n",
              "      <td>The Indira Gandhi Institute of Medical Science...</td>\n",
              "      <td>The Indira Gandhi Institute of Medical Science...</td>\n",
              "    </tr>\n",
              "    <tr>\n",
              "      <th>3</th>\n",
              "      <td>Sumedha Sehra</td>\n",
              "      <td>03 Aug 2017,Thursday</td>\n",
              "      <td>Aaj aapne pakad liya: LeT man Dujana before be...</td>\n",
              "      <td>http://indiatoday.intoday.in/story/abu-dujana-...</td>\n",
              "      <td>Lashkar-e-Taiba's Kashmir commander Abu Dujana...</td>\n",
              "      <td>Lashkar-e-Taiba's Kashmir commander Abu Dujana...</td>\n",
              "    </tr>\n",
              "    <tr>\n",
              "      <th>4</th>\n",
              "      <td>Aarushi Maheshwari</td>\n",
              "      <td>03 Aug 2017,Thursday</td>\n",
              "      <td>Hotel staff to get training to spot signs of s...</td>\n",
              "      <td>http://indiatoday.intoday.in/story/sex-traffic...</td>\n",
              "      <td>Hotels in Maharashtra will train their staff t...</td>\n",
              "      <td>Hotels in Mumbai and other Indian cities are t...</td>\n",
              "    </tr>\n",
              "  </tbody>\n",
              "</table>\n",
              "</div>"
            ],
            "text/plain": [
              "               author  ...                                              ctext\n",
              "0        Chhavi Tyagi  ...  The Daman and Diu administration on Wednesday ...\n",
              "1         Daisy Mowke  ...  From her special numbers to TV?appearances, Bo...\n",
              "2      Arshiya Chopra  ...  The Indira Gandhi Institute of Medical Science...\n",
              "3       Sumedha Sehra  ...  Lashkar-e-Taiba's Kashmir commander Abu Dujana...\n",
              "4  Aarushi Maheshwari  ...  Hotels in Mumbai and other Indian cities are t...\n",
              "\n",
              "[5 rows x 6 columns]"
            ]
          },
          "metadata": {
            "tags": []
          },
          "execution_count": 3
        }
      ]
    },
    {
      "cell_type": "code",
      "metadata": {
        "colab": {
          "base_uri": "https://localhost:8080/"
        },
        "id": "nBhjO5XUaihj",
        "outputId": "2a841fa5-8d04-4820-d47b-277065b65a6b"
      },
      "source": [
        "print(data.shape)\n",
        "data.columns"
      ],
      "execution_count": 4,
      "outputs": [
        {
          "output_type": "stream",
          "text": [
            "(4514, 6)\n"
          ],
          "name": "stdout"
        },
        {
          "output_type": "execute_result",
          "data": {
            "text/plain": [
              "Index(['author', 'date', 'headlines', 'read_more', 'text', 'ctext'], dtype='object')"
            ]
          },
          "metadata": {
            "tags": []
          },
          "execution_count": 4
        }
      ]
    },
    {
      "cell_type": "code",
      "metadata": {
        "colab": {
          "base_uri": "https://localhost:8080/"
        },
        "id": "Tyn0bUkb7z_L",
        "outputId": "87e52c4b-1b6c-4932-d3f8-dfaf53d8c202"
      },
      "source": [
        "print(data.isna().sum())"
      ],
      "execution_count": 5,
      "outputs": [
        {
          "output_type": "stream",
          "text": [
            "author         0\n",
            "date           0\n",
            "headlines      0\n",
            "read_more      0\n",
            "text           0\n",
            "ctext        118\n",
            "dtype: int64\n"
          ],
          "name": "stdout"
        }
      ]
    },
    {
      "cell_type": "code",
      "metadata": {
        "colab": {
          "base_uri": "https://localhost:8080/"
        },
        "id": "XqmJYtO67-vK",
        "outputId": "aeeee619-1e39-4d6e-9bdb-23eaeb975957"
      },
      "source": [
        "data = data.dropna()\n",
        "data.shape"
      ],
      "execution_count": 6,
      "outputs": [
        {
          "output_type": "execute_result",
          "data": {
            "text/plain": [
              "(4396, 6)"
            ]
          },
          "metadata": {
            "tags": []
          },
          "execution_count": 6
        }
      ]
    },
    {
      "cell_type": "code",
      "metadata": {
        "colab": {
          "base_uri": "https://localhost:8080/",
          "height": 196
        },
        "id": "jEm5Qrk-7XJf",
        "outputId": "1e5055d4-ce04-426e-f073-f854c42f347e"
      },
      "source": [
        "data = data.drop(columns = [\"author\",\"date\",\"read_more\"], axis = 1)\n",
        "data.head()"
      ],
      "execution_count": 7,
      "outputs": [
        {
          "output_type": "execute_result",
          "data": {
            "text/html": [
              "<div>\n",
              "<style scoped>\n",
              "    .dataframe tbody tr th:only-of-type {\n",
              "        vertical-align: middle;\n",
              "    }\n",
              "\n",
              "    .dataframe tbody tr th {\n",
              "        vertical-align: top;\n",
              "    }\n",
              "\n",
              "    .dataframe thead th {\n",
              "        text-align: right;\n",
              "    }\n",
              "</style>\n",
              "<table border=\"1\" class=\"dataframe\">\n",
              "  <thead>\n",
              "    <tr style=\"text-align: right;\">\n",
              "      <th></th>\n",
              "      <th>headlines</th>\n",
              "      <th>text</th>\n",
              "      <th>ctext</th>\n",
              "    </tr>\n",
              "  </thead>\n",
              "  <tbody>\n",
              "    <tr>\n",
              "      <th>0</th>\n",
              "      <td>Daman &amp; Diu revokes mandatory Rakshabandhan in...</td>\n",
              "      <td>The Administration of Union Territory Daman an...</td>\n",
              "      <td>The Daman and Diu administration on Wednesday ...</td>\n",
              "    </tr>\n",
              "    <tr>\n",
              "      <th>1</th>\n",
              "      <td>Malaika slams user who trolled her for 'divorc...</td>\n",
              "      <td>Malaika Arora slammed an Instagram user who tr...</td>\n",
              "      <td>From her special numbers to TV?appearances, Bo...</td>\n",
              "    </tr>\n",
              "    <tr>\n",
              "      <th>2</th>\n",
              "      <td>'Virgin' now corrected to 'Unmarried' in IGIMS...</td>\n",
              "      <td>The Indira Gandhi Institute of Medical Science...</td>\n",
              "      <td>The Indira Gandhi Institute of Medical Science...</td>\n",
              "    </tr>\n",
              "    <tr>\n",
              "      <th>3</th>\n",
              "      <td>Aaj aapne pakad liya: LeT man Dujana before be...</td>\n",
              "      <td>Lashkar-e-Taiba's Kashmir commander Abu Dujana...</td>\n",
              "      <td>Lashkar-e-Taiba's Kashmir commander Abu Dujana...</td>\n",
              "    </tr>\n",
              "    <tr>\n",
              "      <th>4</th>\n",
              "      <td>Hotel staff to get training to spot signs of s...</td>\n",
              "      <td>Hotels in Maharashtra will train their staff t...</td>\n",
              "      <td>Hotels in Mumbai and other Indian cities are t...</td>\n",
              "    </tr>\n",
              "  </tbody>\n",
              "</table>\n",
              "</div>"
            ],
            "text/plain": [
              "                                           headlines  ...                                              ctext\n",
              "0  Daman & Diu revokes mandatory Rakshabandhan in...  ...  The Daman and Diu administration on Wednesday ...\n",
              "1  Malaika slams user who trolled her for 'divorc...  ...  From her special numbers to TV?appearances, Bo...\n",
              "2  'Virgin' now corrected to 'Unmarried' in IGIMS...  ...  The Indira Gandhi Institute of Medical Science...\n",
              "3  Aaj aapne pakad liya: LeT man Dujana before be...  ...  Lashkar-e-Taiba's Kashmir commander Abu Dujana...\n",
              "4  Hotel staff to get training to spot signs of s...  ...  Hotels in Mumbai and other Indian cities are t...\n",
              "\n",
              "[5 rows x 3 columns]"
            ]
          },
          "metadata": {
            "tags": []
          },
          "execution_count": 7
        }
      ]
    },
    {
      "cell_type": "code",
      "metadata": {
        "colab": {
          "base_uri": "https://localhost:8080/"
        },
        "id": "HwN4oSPX3HDR",
        "outputId": "5210a29a-a9ce-4c7d-f5af-d7de7df1e584"
      },
      "source": [
        "texts = data[\"text\"]\n",
        "texts[:10]"
      ],
      "execution_count": 8,
      "outputs": [
        {
          "output_type": "execute_result",
          "data": {
            "text/plain": [
              "0    The Administration of Union Territory Daman an...\n",
              "1    Malaika Arora slammed an Instagram user who tr...\n",
              "2    The Indira Gandhi Institute of Medical Science...\n",
              "3    Lashkar-e-Taiba's Kashmir commander Abu Dujana...\n",
              "4    Hotels in Maharashtra will train their staff t...\n",
              "5    A 32-year-old man on Wednesday was found hangi...\n",
              "6    The Delhi High Court reduced the compensation ...\n",
              "7    A 60-year old Dalit woman was allegedly lynche...\n",
              "8    An inquiry by the Aircraft Accident Investigat...\n",
              "9    The Congress party has opened a bank called 'S...\n",
              "Name: text, dtype: object"
            ]
          },
          "metadata": {
            "tags": []
          },
          "execution_count": 8
        }
      ]
    },
    {
      "cell_type": "code",
      "metadata": {
        "id": "CuF-4PCS4bnv",
        "colab": {
          "base_uri": "https://localhost:8080/"
        },
        "outputId": "31ed6ba0-550f-4d6e-8961-50fcc95c96f4"
      },
      "source": [
        "texts = texts.str.lower()\n",
        "texts[:10]"
      ],
      "execution_count": 9,
      "outputs": [
        {
          "output_type": "execute_result",
          "data": {
            "text/plain": [
              "0    the administration of union territory daman an...\n",
              "1    malaika arora slammed an instagram user who tr...\n",
              "2    the indira gandhi institute of medical science...\n",
              "3    lashkar-e-taiba's kashmir commander abu dujana...\n",
              "4    hotels in maharashtra will train their staff t...\n",
              "5    a 32-year-old man on wednesday was found hangi...\n",
              "6    the delhi high court reduced the compensation ...\n",
              "7    a 60-year old dalit woman was allegedly lynche...\n",
              "8    an inquiry by the aircraft accident investigat...\n",
              "9    the congress party has opened a bank called 's...\n",
              "Name: text, dtype: object"
            ]
          },
          "metadata": {
            "tags": []
          },
          "execution_count": 9
        }
      ]
    },
    {
      "cell_type": "code",
      "metadata": {
        "colab": {
          "base_uri": "https://localhost:8080/"
        },
        "id": "W0DxxfeG8aE6",
        "outputId": "5f623609-2bab-451c-a8d0-adde7650ba5f"
      },
      "source": [
        "texts = texts.str.replace(r\"[^A-Za-z]\",\" \")\n",
        "texts[:10]"
      ],
      "execution_count": 10,
      "outputs": [
        {
          "output_type": "execute_result",
          "data": {
            "text/plain": [
              "0    the administration of union territory daman an...\n",
              "1    malaika arora slammed an instagram user who tr...\n",
              "2    the indira gandhi institute of medical science...\n",
              "3    lashkar e taiba s kashmir commander abu dujana...\n",
              "4    hotels in maharashtra will train their staff t...\n",
              "5    a    year old man on wednesday was found hangi...\n",
              "6    the delhi high court reduced the compensation ...\n",
              "7    a    year old dalit woman was allegedly lynche...\n",
              "8    an inquiry by the aircraft accident investigat...\n",
              "9    the congress party has opened a bank called  s...\n",
              "Name: text, dtype: object"
            ]
          },
          "metadata": {
            "tags": []
          },
          "execution_count": 10
        }
      ]
    },
    {
      "cell_type": "code",
      "metadata": {
        "colab": {
          "base_uri": "https://localhost:8080/"
        },
        "id": "-SPIOqLpRJvQ",
        "outputId": "11678fac-2519-4f56-d790-5a50f035580c"
      },
      "source": [
        "#dowload stopwords\n",
        "nltk.download(\"stopwords\")\n",
        "#Setup and remove English stopwords from titles\n",
        "from nltk.corpus import stopwords\n",
        "stop_words = set(stopwords.words(\"english\"))"
      ],
      "execution_count": 11,
      "outputs": [
        {
          "output_type": "stream",
          "text": [
            "[nltk_data] Downloading package stopwords to /root/nltk_data...\n",
            "[nltk_data]   Package stopwords is already up-to-date!\n"
          ],
          "name": "stdout"
        }
      ]
    },
    {
      "cell_type": "code",
      "metadata": {
        "colab": {
          "base_uri": "https://localhost:8080/"
        },
        "id": "MIGOneywRX54",
        "outputId": "61c34907-dd69-4eec-f233-3d83a5558ca7"
      },
      "source": [
        "#Removing the words in stop_words from every title\n",
        "texts = texts.apply(lambda x : \" \".\n",
        "                            join(word for word in x.split() \n",
        "                            if word not in stop_words))\n",
        "print(texts[:10])"
      ],
      "execution_count": 12,
      "outputs": [
        {
          "output_type": "stream",
          "text": [
            "0    administration union territory daman diu revok...\n",
            "1    malaika arora slammed instagram user trolled d...\n",
            "2    indira gandhi institute medical sciences igims...\n",
            "3    lashkar e taiba kashmir commander abu dujana k...\n",
            "4    hotels maharashtra train staff spot signs sex ...\n",
            "5    year old man wednesday found hanging inside wa...\n",
            "6    delhi high court reduced compensation awarded ...\n",
            "7    year old dalit woman allegedly lynched agra vi...\n",
            "8    inquiry aircraft accident investigation bureau...\n",
            "9    congress party opened bank called state bank t...\n",
            "Name: text, dtype: object\n"
          ],
          "name": "stdout"
        }
      ]
    },
    {
      "cell_type": "code",
      "metadata": {
        "id": "8gQx4ui6R93N"
      },
      "source": [
        "from sklearn.feature_extraction.text import TfidfVectorizer\n",
        "vectorizer = TfidfVectorizer()"
      ],
      "execution_count": 13,
      "outputs": []
    },
    {
      "cell_type": "code",
      "metadata": {
        "id": "DyI2zI-YSQaY"
      },
      "source": [
        "X = vectorizer.fit_transform(texts)"
      ],
      "execution_count": 14,
      "outputs": []
    },
    {
      "cell_type": "code",
      "metadata": {
        "colab": {
          "base_uri": "https://localhost:8080/"
        },
        "id": "bNxWkIbm7m7Z",
        "outputId": "5c811abb-7885-45ee-88ce-b2042e3bcd5c"
      },
      "source": [
        "X"
      ],
      "execution_count": 15,
      "outputs": [
        {
          "output_type": "execute_result",
          "data": {
            "text/plain": [
              "<4396x18417 sparse matrix of type '<class 'numpy.float64'>'\n",
              "\twith 134090 stored elements in Compressed Sparse Row format>"
            ]
          },
          "metadata": {
            "tags": []
          },
          "execution_count": 15
        }
      ]
    },
    {
      "cell_type": "code",
      "metadata": {
        "colab": {
          "base_uri": "https://localhost:8080/"
        },
        "id": "ghXhVOy8AHd5",
        "outputId": "8316b814-4b7e-46df-af96-3db6223c59c4"
      },
      "source": [
        "from sklearn.decomposition import LatentDirichletAllocation\n",
        "\n",
        "lda = LatentDirichletAllocation(n_components = 7, random_state = 42)\n",
        "lda.fit(X)"
      ],
      "execution_count": 16,
      "outputs": [
        {
          "output_type": "execute_result",
          "data": {
            "text/plain": [
              "LatentDirichletAllocation(batch_size=128, doc_topic_prior=None,\n",
              "                          evaluate_every=-1, learning_decay=0.7,\n",
              "                          learning_method='batch', learning_offset=10.0,\n",
              "                          max_doc_update_iter=100, max_iter=10,\n",
              "                          mean_change_tol=0.001, n_components=7, n_jobs=None,\n",
              "                          perp_tol=0.1, random_state=42, topic_word_prior=None,\n",
              "                          total_samples=1000000.0, verbose=0)"
            ]
          },
          "metadata": {
            "tags": []
          },
          "execution_count": 16
        }
      ]
    },
    {
      "cell_type": "markdown",
      "metadata": {
        "id": "FXaPs5seTveq"
      },
      "source": [
        "The n_compnents parameter is number of topics."
      ]
    },
    {
      "cell_type": "code",
      "metadata": {
        "colab": {
          "base_uri": "https://localhost:8080/"
        },
        "id": "3f81i6NC8TjL",
        "outputId": "eb71fce6-e183-4275-fb7b-da8dfd693641"
      },
      "source": [
        "import random\n",
        "\n",
        "for i in range(10):\n",
        "  id = random.randint(0,len(vectorizer.get_feature_names()))\n",
        "  print(vectorizer.get_feature_names()[id])"
      ],
      "execution_count": 17,
      "outputs": [
        {
          "output_type": "stream",
          "text": [
            "prepare\n",
            "credibility\n",
            "qaseem\n",
            "indulging\n",
            "iifa\n",
            "changin\n",
            "wave\n",
            "gta\n",
            "africa\n",
            "biggest\n"
          ],
          "name": "stdout"
        }
      ]
    },
    {
      "cell_type": "code",
      "metadata": {
        "id": "ppJv3bA981mo"
      },
      "source": [
        "cat1 = lda.components_[0]"
      ],
      "execution_count": 18,
      "outputs": []
    },
    {
      "cell_type": "code",
      "metadata": {
        "colab": {
          "base_uri": "https://localhost:8080/"
        },
        "id": "iZHMh9tK9JVX",
        "outputId": "9f7f450f-cc1a-4b31-aa8d-621cfc504d37"
      },
      "source": [
        "top_words = cat1.argsort()[-10:]\n",
        "print(top_words)"
      ],
      "execution_count": 19,
      "outputs": [
        {
          "output_type": "stream",
          "text": [
            "[18297   595 10322 10764   417 16309 14357 12270   220 14194]\n"
          ],
          "name": "stdout"
        }
      ]
    },
    {
      "cell_type": "code",
      "metadata": {
        "colab": {
          "base_uri": "https://localhost:8080/"
        },
        "id": "gXN7VXXO9iBq",
        "outputId": "d4d197f0-6a47-48ff-d12a-eeff15a0539b"
      },
      "source": [
        "for i in top_words:\n",
        "  print(vectorizer.get_feature_names()[i])"
      ],
      "execution_count": 20,
      "outputs": [
        {
          "output_type": "stream",
          "text": [
            "year\n",
            "also\n",
            "minister\n",
            "nadu\n",
            "aiadmk\n",
            "tamil\n",
            "sasikala\n",
            "police\n",
            "added\n",
            "said\n"
          ],
          "name": "stdout"
        }
      ]
    },
    {
      "cell_type": "code",
      "metadata": {
        "colab": {
          "base_uri": "https://localhost:8080/"
        },
        "id": "YLr80rN899f9",
        "outputId": "b4e1ea0c-4ed9-42fc-a858-a2f3ffbfd4ca"
      },
      "source": [
        "for i, cat in enumerate(lda.components_):\n",
        "  print(f\"Top 10 words for category #{i}:\")\n",
        "  print([vectorizer.get_feature_names()[i] for i in cat.argsort()[-10:]])\n",
        "  print(\"\\n\")  "
      ],
      "execution_count": 21,
      "outputs": [
        {
          "output_type": "stream",
          "text": [
            "Top 10 words for category #0:\n",
            "['year', 'also', 'minister', 'nadu', 'aiadmk', 'tamil', 'sasikala', 'police', 'added', 'said']\n",
            "\n",
            "\n",
            "Top 10 words for category #1:\n",
            "['delhi', 'added', 'year', 'police', 'minister', 'india', 'court', 'crore', 'government', 'said']\n",
            "\n",
            "\n",
            "Top 10 words for category #2:\n",
            "['actress', 'shah', 'rukh', 'salman', 'year', 'added', 'actor', 'said', 'khan', 'film']\n",
            "\n",
            "\n",
            "Top 10 words for category #3:\n",
            "['film', 'old', 'actress', 'encounter', 'also', 'added', 'police', 'jallikattu', 'year', 'said']\n",
            "\n",
            "\n",
            "Top 10 words for category #4:\n",
            "['added', 'wrote', 'old', 'year', 'government', 'police', 'film', 'india', 'delhi', 'said']\n",
            "\n",
            "\n",
            "Top 10 words for category #5:\n",
            "['chief', 'congress', 'government', 'court', 'delhi', 'minister', 'bjp', 'party', 'india', 'said']\n",
            "\n",
            "\n",
            "Top 10 words for category #6:\n",
            "['girl', 'woman', 'allegedly', 'man', 'accused', 'delhi', 'said', 'year', 'old', 'police']\n",
            "\n",
            "\n"
          ],
          "name": "stdout"
        }
      ]
    },
    {
      "cell_type": "markdown",
      "metadata": {
        "id": "JXhdb7UnnEu7"
      },
      "source": [
        "From the above results we get some categories clearly as category 6 informs about **Crime**, category 0 represents **Regional Politics** from a particular state and categories 4 and 5 classifys **Government and National Politics**. Categories 2 and 3 point towards the indian **film industry**. Notice that words like \"film\", \"actor\", \"police\", \"old\" and \"said\" appear in many categories because they are in general very common in news and thats also why we get 2 topics for Film Industry and Politics. The words like these should be ignored to clearly identify the categories. After ignoring these words another topic arises in category 1 which is **Finance**."
      ]
    },
    {
      "cell_type": "code",
      "metadata": {
        "colab": {
          "base_uri": "https://localhost:8080/"
        },
        "id": "wGCYKn6b-3ZN",
        "outputId": "32298002-1c97-49ac-a9a8-caf3b8168441"
      },
      "source": [
        "cat_values = lda.transform(X)\n",
        "cat_values.shape"
      ],
      "execution_count": 22,
      "outputs": [
        {
          "output_type": "execute_result",
          "data": {
            "text/plain": [
              "(4396, 7)"
            ]
          },
          "metadata": {
            "tags": []
          },
          "execution_count": 22
        }
      ]
    },
    {
      "cell_type": "code",
      "metadata": {
        "id": "1n7uaoAp_PFL"
      },
      "source": [
        "data[\"Category\"] = cat_values.argmax(axis=1)"
      ],
      "execution_count": 23,
      "outputs": []
    },
    {
      "cell_type": "code",
      "metadata": {
        "colab": {
          "base_uri": "https://localhost:8080/",
          "height": 404
        },
        "id": "EFV7EcuH_iEd",
        "outputId": "6f45001a-e952-4e0b-c7a8-d6a09581fb6c"
      },
      "source": [
        "data"
      ],
      "execution_count": 24,
      "outputs": [
        {
          "output_type": "execute_result",
          "data": {
            "text/html": [
              "<div>\n",
              "<style scoped>\n",
              "    .dataframe tbody tr th:only-of-type {\n",
              "        vertical-align: middle;\n",
              "    }\n",
              "\n",
              "    .dataframe tbody tr th {\n",
              "        vertical-align: top;\n",
              "    }\n",
              "\n",
              "    .dataframe thead th {\n",
              "        text-align: right;\n",
              "    }\n",
              "</style>\n",
              "<table border=\"1\" class=\"dataframe\">\n",
              "  <thead>\n",
              "    <tr style=\"text-align: right;\">\n",
              "      <th></th>\n",
              "      <th>headlines</th>\n",
              "      <th>text</th>\n",
              "      <th>ctext</th>\n",
              "      <th>Category</th>\n",
              "    </tr>\n",
              "  </thead>\n",
              "  <tbody>\n",
              "    <tr>\n",
              "      <th>0</th>\n",
              "      <td>Daman &amp; Diu revokes mandatory Rakshabandhan in...</td>\n",
              "      <td>The Administration of Union Territory Daman an...</td>\n",
              "      <td>The Daman and Diu administration on Wednesday ...</td>\n",
              "      <td>1</td>\n",
              "    </tr>\n",
              "    <tr>\n",
              "      <th>1</th>\n",
              "      <td>Malaika slams user who trolled her for 'divorc...</td>\n",
              "      <td>Malaika Arora slammed an Instagram user who tr...</td>\n",
              "      <td>From her special numbers to TV?appearances, Bo...</td>\n",
              "      <td>3</td>\n",
              "    </tr>\n",
              "    <tr>\n",
              "      <th>2</th>\n",
              "      <td>'Virgin' now corrected to 'Unmarried' in IGIMS...</td>\n",
              "      <td>The Indira Gandhi Institute of Medical Science...</td>\n",
              "      <td>The Indira Gandhi Institute of Medical Science...</td>\n",
              "      <td>5</td>\n",
              "    </tr>\n",
              "    <tr>\n",
              "      <th>3</th>\n",
              "      <td>Aaj aapne pakad liya: LeT man Dujana before be...</td>\n",
              "      <td>Lashkar-e-Taiba's Kashmir commander Abu Dujana...</td>\n",
              "      <td>Lashkar-e-Taiba's Kashmir commander Abu Dujana...</td>\n",
              "      <td>0</td>\n",
              "    </tr>\n",
              "    <tr>\n",
              "      <th>4</th>\n",
              "      <td>Hotel staff to get training to spot signs of s...</td>\n",
              "      <td>Hotels in Maharashtra will train their staff t...</td>\n",
              "      <td>Hotels in Mumbai and other Indian cities are t...</td>\n",
              "      <td>1</td>\n",
              "    </tr>\n",
              "    <tr>\n",
              "      <th>...</th>\n",
              "      <td>...</td>\n",
              "      <td>...</td>\n",
              "      <td>...</td>\n",
              "      <td>...</td>\n",
              "    </tr>\n",
              "    <tr>\n",
              "      <th>4509</th>\n",
              "      <td>Rasna seeking ?250 cr revenue from snack categ...</td>\n",
              "      <td>Fruit juice concentrate maker Rasna is eyeing ...</td>\n",
              "      <td>Mumbai, Feb 23 (PTI) Fruit juice concentrate m...</td>\n",
              "      <td>1</td>\n",
              "    </tr>\n",
              "    <tr>\n",
              "      <th>4510</th>\n",
              "      <td>Sachin attends Rajya Sabha after questions on ...</td>\n",
              "      <td>Former Indian cricketer Sachin Tendulkar atten...</td>\n",
              "      <td>Former cricketer Sachin Tendulkar was spotted ...</td>\n",
              "      <td>5</td>\n",
              "    </tr>\n",
              "    <tr>\n",
              "      <th>4511</th>\n",
              "      <td>Shouldn't rob their childhood: Aamir on kids r...</td>\n",
              "      <td>Aamir Khan, while talking about reality shows ...</td>\n",
              "      <td>Aamir Khan, whose last film Dangal told the st...</td>\n",
              "      <td>2</td>\n",
              "    </tr>\n",
              "    <tr>\n",
              "      <th>4512</th>\n",
              "      <td>Asha Bhosle gets ?53,000 power bill for unused...</td>\n",
              "      <td>The Maharashtra government has initiated an in...</td>\n",
              "      <td>Maharahstra Power Minister Chandrashekhar Bawa...</td>\n",
              "      <td>1</td>\n",
              "    </tr>\n",
              "    <tr>\n",
              "      <th>4513</th>\n",
              "      <td>More than half of India's languages may die in...</td>\n",
              "      <td>At least 400 languages or more than half langu...</td>\n",
              "      <td>More than half of the languages spoken by Indi...</td>\n",
              "      <td>5</td>\n",
              "    </tr>\n",
              "  </tbody>\n",
              "</table>\n",
              "<p>4396 rows × 4 columns</p>\n",
              "</div>"
            ],
            "text/plain": [
              "                                              headlines  ... Category\n",
              "0     Daman & Diu revokes mandatory Rakshabandhan in...  ...        1\n",
              "1     Malaika slams user who trolled her for 'divorc...  ...        3\n",
              "2     'Virgin' now corrected to 'Unmarried' in IGIMS...  ...        5\n",
              "3     Aaj aapne pakad liya: LeT man Dujana before be...  ...        0\n",
              "4     Hotel staff to get training to spot signs of s...  ...        1\n",
              "...                                                 ...  ...      ...\n",
              "4509  Rasna seeking ?250 cr revenue from snack categ...  ...        1\n",
              "4510  Sachin attends Rajya Sabha after questions on ...  ...        5\n",
              "4511  Shouldn't rob their childhood: Aamir on kids r...  ...        2\n",
              "4512  Asha Bhosle gets ?53,000 power bill for unused...  ...        1\n",
              "4513  More than half of India's languages may die in...  ...        5\n",
              "\n",
              "[4396 rows x 4 columns]"
            ]
          },
          "metadata": {
            "tags": []
          },
          "execution_count": 24
        }
      ]
    },
    {
      "cell_type": "markdown",
      "metadata": {
        "id": "7wvLqAe_H-g8"
      },
      "source": [
        "Check the accuracy of the interpretations made earlier by observing the above results. Categories 2 and 3 appear only once pointing towards Film genre. The diference between these 2 categories is lucid now. The former showcases Indian Actors and later points towards Indian Actresses. Category 1 appears 4 times out of which 3 are related to capital and assets as in the interpretation. Category 0 appears only once showcasing the regional news. Category 5 also point towards Indian Diversity which was not interpreted earlier.   "
      ]
    }
  ]
}